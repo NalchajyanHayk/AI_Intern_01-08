{
 "cells": [
  {
   "cell_type": "code",
   "execution_count": null,
   "id": "3543d38c",
   "metadata": {},
   "outputs": [],
   "source": [
    "import socket\n",
    "import threading\n",
    "\n",
    "SERVER_HOST = '127.0.0.1'\n",
    "SERVER_PORT = 5000\n",
    "\n",
    "server_socket = socket.socket(socket.AF_INET, socket.SOCK_STREAM)\n",
    "server_socket.bind((SERVER_HOST, SERVER_PORT))\n",
    "server_socket.listen()\n",
    "\n",
    "connected_clients = []\n",
    "\n",
    "def handle_client(client_socket, client_address):\n",
    "    print(f\"New connection from {client_address}\")\n",
    "\n",
    "    try:\n",
    "        while True:\n",
    "            message = client_socket.recv(1024).decode()\n",
    "            if not message:\n",
    "                break\n",
    "\n",
    "            broadcast_message(message, client_socket)\n",
    "\n",
    "    except ConnectionResetError:\n",
    "        print(f\"Connection from {client_address} closed unexpectedly.\")\n",
    "    finally:\n",
    "        client_socket.close()\n",
    "        connected_clients.remove(client_socket)\n",
    "\n",
    "def broadcast_message(message, sender_socket):\n",
    "    for client_socket in connected_clients:\n",
    "        if client_socket != sender_socket:\n",
    "            try:\n",
    "                client_socket.send(message.encode())\n",
    "            except ConnectionResetError:\n",
    "                connected_clients.remove(client_socket)\n",
    "\n",
    "print(f\"Chat server started on {SERVER_HOST}:{SERVER_PORT}\")\n",
    "\n",
    "while True:\n",
    "    client_socket, client_address = server_socket.accept()\n",
    "    connected_clients.append(client_socket)\n",
    "\n",
    "    client_thread = threading.Thread(target=handle_client, args=(client_socket, client_address))\n",
    "    client_thread.start()\n"
   ]
  }
 ],
 "metadata": {
  "kernelspec": {
   "display_name": "Python 3 (ipykernel)",
   "language": "python",
   "name": "python3"
  },
  "language_info": {
   "codemirror_mode": {
    "name": "ipython",
    "version": 3
   },
   "file_extension": ".py",
   "mimetype": "text/x-python",
   "name": "python",
   "nbconvert_exporter": "python",
   "pygments_lexer": "ipython3",
   "version": "3.9.13"
  }
 },
 "nbformat": 4,
 "nbformat_minor": 5
}
