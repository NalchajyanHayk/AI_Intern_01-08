{
 "cells": [
  {
   "cell_type": "code",
   "execution_count": null,
   "id": "cb228190",
   "metadata": {},
   "outputs": [],
   "source": [
    "import socket\n",
    "import threading\n",
    "\n",
    "SERVER_HOST = '127.0.0.1'\n",
    "SERVER_PORT = 5000\n",
    "\n",
    "client_socket = socket.socket(socket.AF_INET, socket.SOCK_STREAM)\n",
    "client_socket.connect((SERVER_HOST, SERVER_PORT))\n",
    "\n",
    "def receive_messages():\n",
    "    try:\n",
    "        while True:\n",
    "            message = client_socket.recv(1024).decode()\n",
    "            print(message)\n",
    "    except ConnectionResetError:\n",
    "        print(\"Connection to the server closed unexpectedly.\")\n",
    "    finally:\n",
    "        client_socket.close()\n",
    "\n",
    "receive_thread = threading.Thread(target=receive_messages)\n",
    "receive_thread.start()\n",
    "\n",
    "print(\"Welcome to the chat! Type 'exit' to leave the chat.\")\n",
    "\n",
    "while True:\n",
    "    message = input()\n",
    "    client_socket.send(message.encode())\n",
    "\n",
    "    if message.lower() == 'exit':\n",
    "        break"
   ]
  }
 ],
 "metadata": {
  "kernelspec": {
   "display_name": "Python 3 (ipykernel)",
   "language": "python",
   "name": "python3"
  },
  "language_info": {
   "codemirror_mode": {
    "name": "ipython",
    "version": 3
   },
   "file_extension": ".py",
   "mimetype": "text/x-python",
   "name": "python",
   "nbconvert_exporter": "python",
   "pygments_lexer": "ipython3",
   "version": "3.9.13"
  }
 },
 "nbformat": 4,
 "nbformat_minor": 5
}
